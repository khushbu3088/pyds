{
 "cells": [
  {
   "cell_type": "markdown",
   "metadata": {},
   "source": [
    "- math library\n"
   ]
  },
  {
   "cell_type": "code",
   "execution_count": 80,
   "metadata": {},
   "outputs": [],
   "source": [
    "import math"
   ]
  },
  {
   "cell_type": "code",
   "execution_count": 81,
   "metadata": {},
   "outputs": [
    {
     "name": "stdout",
     "output_type": "stream",
     "text": [
      "3.0\n",
      "8.0\n",
      "120\n",
      "3.141592653589793\n",
      "2.718281828459045\n",
      "4\n",
      "24\n",
      "0.8414709848078965\n",
      "0.5403023058681398\n",
      "1.5574077246549023\n"
     ]
    }
   ],
   "source": [
    "print(math.sqrt(9))\n",
    "print(math.pow(2,3))\n",
    "print(math.factorial(5))\n",
    "print(math.pi)\n",
    "print(math.e)\n",
    "print(math.gcd(12,8))\n",
    "print(math.lcm(12,8))\n",
    "print(math.sin(1))\n",
    "print(math.cos(1))\n",
    "print(math.tan(1))"
   ]
  },
  {
   "cell_type": "markdown",
   "metadata": {},
   "source": [
    "- random library"
   ]
  },
  {
   "cell_type": "code",
   "execution_count": 82,
   "metadata": {},
   "outputs": [],
   "source": [
    "from random import random,randint,choice,shuffle#random library"
   ]
  },
  {
   "cell_type": "code",
   "execution_count": 83,
   "metadata": {},
   "outputs": [
    {
     "name": "stdout",
     "output_type": "stream",
     "text": [
      "get a random number between 0 and 1: 0.3951152285163877\n",
      "get a random number between 1 and 100: 6\n",
      "get a random element from a list: 5\n",
      "shuffle a list: ['bob', 'alice', 'eve', 'david', 'charlie']\n"
     ]
    }
   ],
   "source": [
    "print('get a random number between 0 and 1:',random())\n",
    "print('get a random number between 1 and 100:',randint(1,100))\n",
    "print('get a random element from a list:',choice([1,2,3,4,5]))\n",
    "names=['alice','bob','charlie','david','eve']\n",
    "shuffle(names)\n",
    "print('shuffle a list:',names)"
   ]
  },
  {
   "cell_type": "markdown",
   "metadata": {},
   "source": [
    "- datetime library"
   ]
  },
  {
   "cell_type": "code",
   "execution_count": 84,
   "metadata": {},
   "outputs": [],
   "source": [
    "from datetime import datetime as dt"
   ]
  },
  {
   "cell_type": "code",
   "execution_count": 85,
   "metadata": {},
   "outputs": [
    {
     "name": "stdout",
     "output_type": "stream",
     "text": [
      "current date and time: 2024-09-24 12:21:04.368557\n"
     ]
    }
   ],
   "source": [
    "print('current date and time:',dt.now())"
   ]
  },
  {
   "cell_type": "code",
   "execution_count": 86,
   "metadata": {},
   "outputs": [
    {
     "name": "stdout",
     "output_type": "stream",
     "text": [
      "current Date: 2024-09-24\n",
      "current time: 12:21:04.527836\n"
     ]
    }
   ],
   "source": [
    "print('current Date:',dt.now().date())\n",
    "print('current time:',dt.now().time())"
   ]
  },
  {
   "cell_type": "code",
   "execution_count": 87,
   "metadata": {},
   "outputs": [
    {
     "name": "stdout",
     "output_type": "stream",
     "text": [
      "current Year: 2024\n",
      "current Month: 9\n",
      "current Day: 24\n",
      "current Hour: 12\n",
      "current Minute: 21\n",
      "current Second: 4\n",
      "current Microsecond: 636583\n",
      "current Weekday: 1\n"
     ]
    }
   ],
   "source": [
    "print('current Year:',dt.now().year)\n",
    "print('current Month:',dt.now().month)\n",
    "print('current Day:',dt.now().day)\n",
    "print('current Hour:',dt.now().hour)\n",
    "print('current Minute:',dt.now().minute)\n",
    "print('current Second:',dt.now().second)\n",
    "print('current Microsecond:',dt.now().microsecond)\n",
    "print('current Weekday:',dt.now().weekday())\n",
    "\n"
   ]
  },
  {
   "cell_type": "code",
   "execution_count": 88,
   "metadata": {},
   "outputs": [
    {
     "name": "stdout",
     "output_type": "stream",
     "text": [
      "date 24/09/24\n"
     ]
    }
   ],
   "source": [
    "date=dt.strftime(dt.now(),'%d/%m/%y')\n",
    "print('date',date)"
   ]
  },
  {
   "cell_type": "code",
   "execution_count": 89,
   "metadata": {},
   "outputs": [
    {
     "name": "stdout",
     "output_type": "stream",
     "text": [
      "time 12/21/04\n"
     ]
    }
   ],
   "source": [
    "time=dt.strftime(dt.now(),'%H/%M/%S')\n",
    "print('time',time)"
   ]
  },
  {
   "cell_type": "markdown",
   "metadata": {},
   "source": [
    "\n",
    "-os library"
   ]
  },
  {
   "cell_type": "code",
   "execution_count": 90,
   "metadata": {},
   "outputs": [],
   "source": [
    "import os"
   ]
  },
  {
   "cell_type": "code",
   "execution_count": 91,
   "metadata": {},
   "outputs": [
    {
     "name": "stdout",
     "output_type": "stream",
     "text": [
      "current working directory: c:\\Users\\Durgesh Verma\\Desktop\\pyds\n"
     ]
    }
   ],
   "source": [
    "print('current working directory:',os.getcwd())"
   ]
  },
  {
   "cell_type": "code",
   "execution_count": 92,
   "metadata": {},
   "outputs": [
    {
     "name": "stdout",
     "output_type": "stream",
     "text": [
      "files in the current dictionary: ['.git', '.ipynb_checkpoints', 'conditions.ipynb', 'dictionary.ipynb', 'exerciseloop.ipynb', 'func.ipynb', 'intro.ipynb', 'library.ipynb', 'loops.ipynb', 'operator.ipynb', 'set.ipynb', 'string.ipynb']\n",
      "12 file found\n"
     ]
    }
   ],
   "source": [
    "files=os.listdir()\n",
    "print('files in the current dictionary:',files)\n",
    "print(len(files),'file found')"
   ]
  },
  {
   "cell_type": "code",
   "execution_count": 93,
   "metadata": {},
   "outputs": [
    {
     "name": "stdout",
     "output_type": "stream",
     "text": [
      "files in the specified directory: ['.git', '.ipynb_checkpoints', 'conditions.ipynb', 'dictionary.ipynb', 'exerciseloop.ipynb', 'func.ipynb', 'intro.ipynb', 'library.ipynb', 'loops.ipynb', 'operator.ipynb', 'set.ipynb', 'string.ipynb']\n"
     ]
    }
   ],
   "source": [
    "files=os.listdir(r\"C:\\Users\\Durgesh Verma\\Desktop\\pyds\")# r is used raw data.\n",
    "print('files in the specified directory:',files)"
   ]
  },
  {
   "cell_type": "code",
   "execution_count": 94,
   "metadata": {},
   "outputs": [
    {
     "data": {
      "text/plain": [
       "<generator object walk at 0x000001FF3905AFB0>"
      ]
     },
     "execution_count": 94,
     "metadata": {},
     "output_type": "execute_result"
    }
   ],
   "source": [
    "os.walk('C:')"
   ]
  },
  {
   "cell_type": "code",
   "execution_count": 95,
   "metadata": {},
   "outputs": [
    {
     "name": "stdout",
     "output_type": "stream",
     "text": [
      "=> C:\n",
      "📁 ['.git', '.ipynb_checkpoints']\n",
      "🗃️ ['conditions.ipynb', 'dictionary.ipynb', 'exerciseloop.ipynb', 'func.ipynb', 'intro.ipynb', 'library.ipynb', 'loops.ipynb', 'operator.ipynb', 'set.ipynb', 'string.ipynb']\n",
      "=> C:.git\n",
      "📁 ['hooks', 'info', 'logs', 'objects', 'refs']\n",
      "🗃️ ['COMMIT_EDITMSG', 'config', 'description', 'FETCH_HEAD', 'HEAD', 'index']\n",
      "=> C:.git\\hooks\n",
      "📁 []\n",
      "🗃️ ['applypatch-msg.sample', 'commit-msg.sample', 'fsmonitor-watchman.sample', 'post-update.sample', 'pre-applypatch.sample', 'pre-commit.sample', 'pre-merge-commit.sample', 'pre-push.sample', 'pre-rebase.sample', 'pre-receive.sample', 'prepare-commit-msg.sample', 'push-to-checkout.sample', 'sendemail-validate.sample', 'update.sample']\n",
      "=> C:.git\\info\n",
      "📁 []\n",
      "🗃️ ['exclude']\n",
      "=> C:.git\\logs\n",
      "📁 ['refs']\n",
      "🗃️ ['HEAD']\n",
      "=> C:.git\\logs\\refs\n",
      "📁 ['heads', 'remotes']\n",
      "🗃️ []\n",
      "=> C:.git\\logs\\refs\\heads\n",
      "📁 []\n",
      "🗃️ ['main']\n",
      "=> C:.git\\logs\\refs\\remotes\n",
      "📁 ['first-code']\n",
      "🗃️ []\n",
      "=> C:.git\\logs\\refs\\remotes\\first-code\n",
      "📁 []\n",
      "🗃️ ['main']\n",
      "=> C:.git\\objects\n",
      "📁 ['03', '08', '15', '20', '3d', '3e', '40', '45', '5c', '65', '6b', '83', '8e', 'a1', 'a5', 'aa', 'c4', 'c8', 'cd', 'e5', 'e6', 'f5', 'fd', 'info', 'pack']\n",
      "🗃️ []\n",
      "=> C:.git\\objects\\03\n",
      "📁 []\n",
      "🗃️ ['1b5222d80091272bd76f0e9c4815b4aef33e10']\n",
      "=> C:.git\\objects\\08\n",
      "📁 []\n",
      "🗃️ ['06db1b05c35e8fec96e426f69e72cbc9cd857d', '8cbd44ba7b03770cd13125bfb3f4400483e6bd']\n",
      "=> C:.git\\objects\\15\n",
      "📁 []\n",
      "🗃️ ['3a487a81f71df61dc9ed1accb9973b4218a44d']\n",
      "=> C:.git\\objects\\20\n",
      "📁 []\n",
      "🗃️ ['02337bfa92a6d6f0d3ea80372f4509dacc7565']\n",
      "=> C:.git\\objects\\3d\n",
      "📁 []\n",
      "🗃️ ['ea050ce336b4c468f9df79de0fe7cca1d0fc90']\n",
      "=> C:.git\\objects\\3e\n",
      "📁 []\n",
      "🗃️ ['b552497119d063076ca2a04a8a8d5bfb041885']\n",
      "=> C:.git\\objects\\40\n",
      "📁 []\n",
      "🗃️ ['ecf85df259dff736862e76cbb336e8d3026b6d']\n",
      "=> C:.git\\objects\\45\n",
      "📁 []\n",
      "🗃️ ['655504639e2c4a9c28f885d94fb70b6a03b017']\n",
      "=> C:.git\\objects\\5c\n",
      "📁 []\n",
      "🗃️ ['e44787c839ea3d1820adab8596903ae7b949b8']\n",
      "=> C:.git\\objects\\65\n",
      "📁 []\n",
      "🗃️ ['01f4d5b9f68a614d480c97ded72a5613529705']\n",
      "=> C:.git\\objects\\6b\n",
      "📁 []\n",
      "🗃️ ['a127d357848377e4c222bd119d76714addab5c']\n",
      "=> C:.git\\objects\\83\n",
      "📁 []\n",
      "🗃️ ['4cd676c432d26fa5d58ce6ce5d6824c26905e6']\n",
      "=> C:.git\\objects\\8e\n",
      "📁 []\n",
      "🗃️ ['b1282d4fabe63d6cceee7a16642064e3bf98c1']\n",
      "=> C:.git\\objects\\a1\n",
      "📁 []\n",
      "🗃️ ['ac2961b720d06f3a50052ac8b7748e41e92055']\n",
      "=> C:.git\\objects\\a5\n",
      "📁 []\n",
      "🗃️ ['a14bb7875efd639a8efa3a753cff22e8b48c4f']\n",
      "=> C:.git\\objects\\aa\n",
      "📁 []\n",
      "🗃️ ['54d9b30b29e96af4daf40c324689b42299d2fd']\n",
      "=> C:.git\\objects\\c4\n",
      "📁 []\n",
      "🗃️ ['43878b8d066e0b78ec841679bd839671dd9b43']\n",
      "=> C:.git\\objects\\c8\n",
      "📁 []\n",
      "🗃️ ['68740cad1dae31f06a85283aac12c813528084']\n",
      "=> C:.git\\objects\\cd\n",
      "📁 []\n",
      "🗃️ ['fb3625a78f524541d999bd61a9c77b8c8135b8']\n",
      "=> C:.git\\objects\\e5\n",
      "📁 []\n",
      "🗃️ ['c2c0dd8e7cc13838bf8d79c0159a96d81c429f']\n",
      "=> C:.git\\objects\\e6\n",
      "📁 []\n",
      "🗃️ ['401d65a96e0ecf377dcebfd2f814fdd4a1e4f8', '9de29bb2d1d6434b8b29ae775ad8c2e48c5391']\n",
      "=> C:.git\\objects\\f5\n",
      "📁 []\n",
      "🗃️ ['d3644e8dc81a5e81585a7f9e99c2f0d8ab5ba0']\n",
      "=> C:.git\\objects\\fd\n",
      "📁 []\n",
      "🗃️ ['be716551531fea49ce87139d97c6e894cc3d6a']\n",
      "=> C:.git\\objects\\info\n",
      "📁 []\n",
      "🗃️ []\n",
      "=> C:.git\\objects\\pack\n",
      "📁 []\n",
      "🗃️ []\n",
      "=> C:.git\\refs\n",
      "📁 ['heads', 'remotes', 'tags']\n",
      "🗃️ []\n",
      "=> C:.git\\refs\\heads\n",
      "📁 []\n",
      "🗃️ ['main']\n",
      "=> C:.git\\refs\\remotes\n",
      "📁 ['first-code']\n",
      "🗃️ []\n",
      "=> C:.git\\refs\\remotes\\first-code\n",
      "📁 []\n",
      "🗃️ ['main']\n",
      "=> C:.git\\refs\\tags\n",
      "📁 []\n",
      "🗃️ []\n",
      "=> C:.ipynb_checkpoints\n",
      "📁 []\n",
      "🗃️ ['conditions-checkpoint.ipynb', 'dictionary-checkpoint.ipynb', 'exerciseloop-checkpoint.ipynb', 'func-checkpoint.ipynb', 'loops-checkpoint.ipynb', 'operator-checkpoint.ipynb', 'set-checkpoint.ipynb', 'string-checkpoint.ipynb']\n",
      "total files found: 69\n"
     ]
    }
   ],
   "source": [
    "total_files=0\n",
    "for path,folders,files in os.walk('C:'):\n",
    "    print('=>',path)\n",
    "    print('📁',folders)\n",
    "    print('🗃️',files)\n",
    "    total_files+=len(files)\n",
    "print('total files found:',total_files)    "
   ]
  }
 ],
 "metadata": {
  "kernelspec": {
   "display_name": "base",
   "language": "python",
   "name": "python3"
  },
  "language_info": {
   "codemirror_mode": {
    "name": "ipython",
    "version": 3
   },
   "file_extension": ".py",
   "mimetype": "text/x-python",
   "name": "python",
   "nbconvert_exporter": "python",
   "pygments_lexer": "ipython3",
   "version": "3.12.3"
  }
 },
 "nbformat": 4,
 "nbformat_minor": 2
}
