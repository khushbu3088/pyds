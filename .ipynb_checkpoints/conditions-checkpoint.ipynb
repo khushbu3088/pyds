{
 "cells": [
  {
   "cell_type": "code",
   "execution_count": 1,
   "metadata": {},
   "outputs": [
    {
     "data": {
      "text/plain": [
       "6567"
      ]
     },
     "execution_count": 1,
     "metadata": {},
     "output_type": "execute_result"
    }
   ],
   "source": [
    "6567"
   ]
  },
  {
   "cell_type": "code",
   "execution_count": 2,
   "metadata": {},
   "outputs": [
    {
     "name": "stdout",
     "output_type": "stream",
     "text": [
      "A+\n",
      "A\n",
      "B\n",
      "C\n",
      "fail\n"
     ]
    }
   ],
   "source": [
    "marks=95\n",
    "if marks>=90:\n",
    "    print('A+')\n",
    "if marks>=80:\n",
    "    print('A')\n",
    "if marks>=70:\n",
    "    print('B')\n",
    "if marks>=60:\n",
    "    print('C')\n",
    "if marks>=50:\n",
    "    print('fail')                \n"
   ]
  },
  {
   "cell_type": "markdown",
   "metadata": {},
   "source": [
    "## nested if"
   ]
  },
  {
   "cell_type": "code",
   "execution_count": 6,
   "metadata": {},
   "outputs": [
    {
     "name": "stdout",
     "output_type": "stream",
     "text": [
      "registration successful\n"
     ]
    }
   ],
   "source": [
    "username=input(\"enter username\")\n",
    "email=input(\"enter email\")\n",
    "password=input(\"enter password\")\n",
    "cpass=input(\"enter confirm password \")\n",
    "if len(username)>5 and len(username)<15:\n",
    "    if '@' in email and len(email)<=20:\n",
    "        if len(password)>=8 and len(password)<=15:\n",
    "            if password==cpass:\n",
    "                print(\"registration successful\")\n",
    "            else:\n",
    "                print(\"password mismatch😒😒😒\")\n",
    "        else:\n",
    "            print(\"invalid password😢😢\") \n",
    "    else:\n",
    "        print(\"invalid email🤦‍♀️🤦‍♀️\") \n",
    "else:\n",
    "    print(\"invalid username😒😒\")                          "
   ]
  },
  {
   "cell_type": "code",
   "execution_count": 3,
   "metadata": {},
   "outputs": [
    {
     "name": "stdout",
     "output_type": "stream",
     "text": [
      "A+\n"
     ]
    }
   ],
   "source": [
    "marks=95\n",
    "if marks>=90:\n",
    "    print('A+')\n",
    "elif marks>=80:\n",
    "    print('A')\n",
    "elif marks>=70:\n",
    "    print('B')\n",
    "elif marks>=60:\n",
    "    print('C')\n",
    "elif marks>=50:\n",
    "    print('Fail')\n",
    "else:\n",
    "    print('invalid marks')                    "
   ]
  },
  {
   "cell_type": "code",
   "execution_count": 4,
   "metadata": {},
   "outputs": [
    {
     "ename": "ValueError",
     "evalue": "invalid literal for int() with base 10: 'khushbu'",
     "output_type": "error",
     "traceback": [
      "\u001b[1;31m---------------------------------------------------------------------------\u001b[0m",
      "\u001b[1;31mValueError\u001b[0m                                Traceback (most recent call last)",
      "Cell \u001b[1;32mIn[4], line 1\u001b[0m\n\u001b[1;32m----> 1\u001b[0m s1\u001b[38;5;241m=\u001b[39m\u001b[38;5;28;43mint\u001b[39;49m\u001b[43m(\u001b[49m\u001b[38;5;28;43minput\u001b[39;49m\u001b[43m(\u001b[49m\u001b[38;5;124;43m\"\u001b[39;49m\u001b[38;5;124;43menter the first length of s1\u001b[39;49m\u001b[38;5;124;43m\"\u001b[39;49m\u001b[43m)\u001b[49m\u001b[43m)\u001b[49m\n\u001b[0;32m      2\u001b[0m s2\u001b[38;5;241m=\u001b[39m\u001b[38;5;28mint\u001b[39m(\u001b[38;5;28minput\u001b[39m(\u001b[38;5;124m\"\u001b[39m\u001b[38;5;124menter the second length of s2 \u001b[39m\u001b[38;5;124m\"\u001b[39m))\n\u001b[0;32m      3\u001b[0m s3\u001b[38;5;241m=\u001b[39m\u001b[38;5;28mint\u001b[39m(\u001b[38;5;28minput\u001b[39m(\u001b[38;5;124m\"\u001b[39m\u001b[38;5;124menter the length of s3\u001b[39m\u001b[38;5;124m\"\u001b[39m))\n",
      "\u001b[1;31mValueError\u001b[0m: invalid literal for int() with base 10: 'khushbu'"
     ]
    }
   ],
   "source": [
    "s1=int(input(\"enter the first length of s1\"))\n",
    "s2=int(input(\"enter the second length of s2 \"))\n",
    "s3=int(input(\"enter the length of s3\"))\n",
    "if s1==s2==s3 and s1==s3==s2:\n",
    "    print(\"equilateral triangle\")\n",
    "elif s1==s2 or s2==s3 or s1==s3:\n",
    "    print(\"isolateral triangle\")\n",
    "else:\n",
    "    print(\"scelen triangle\")        "
   ]
  },
  {
   "cell_type": "code",
   "execution_count": 12,
   "metadata": {},
   "outputs": [
    {
     "name": "stdout",
     "output_type": "stream",
     "text": [
      "vowel\n"
     ]
    }
   ],
   "source": [
    "char=input(\"enter the character\")\n",
    "if char=='a'or char=='i' or char=='o' or char=='e' or char=='u' :\n",
    "    print(\"vowel\")\n",
    "else:\n",
    "    print(\"consonant\")    "
   ]
  },
  {
   "cell_type": "code",
   "execution_count": 13,
   "metadata": {},
   "outputs": [
    {
     "name": "stdout",
     "output_type": "stream",
     "text": [
      "vowel\n"
     ]
    }
   ],
   "source": [
    "char=input(\"enter the char\")\n",
    "if char in 'aeiou':\n",
    "    print(\"vowel\")\n",
    "else:\n",
    "    print(\"consonant\")    "
   ]
  },
  {
   "cell_type": "code",
   "execution_count": 14,
   "metadata": {},
   "outputs": [
    {
     "name": "stdout",
     "output_type": "stream",
     "text": [
      "b is greatest\n"
     ]
    }
   ],
   "source": [
    "a=20\n",
    "b=30\n",
    "c=40\n",
    "if a>b:\n",
    "    if a>c:\n",
    "        print(\"a is greatest\")\n",
    "    else:\n",
    "        print(\"c is greatest\")\n",
    "else:\n",
    "    print(\"b is greatest\")"
   ]
  },
  {
   "cell_type": "code",
   "execution_count": null,
   "metadata": {},
   "outputs": [],
   "source": []
  },
  {
   "cell_type": "code",
   "execution_count": 2,
   "metadata": {},
   "outputs": [
    {
     "name": "stdout",
     "output_type": "stream",
     "text": [
      "number is even\n"
     ]
    }
   ],
   "source": [
    "n1=int(input(\"enter the number\"))\n",
    "if n1%2==0:\n",
    "    print(\"number is even\")\n",
    "else:\n",
    "    print(\"number is not even\")    "
   ]
  },
  {
   "cell_type": "code",
   "execution_count": 3,
   "metadata": {},
   "outputs": [
    {
     "name": "stdout",
     "output_type": "stream",
     "text": [
      "he/she is eligible for vote\n"
     ]
    }
   ],
   "source": [
    "age=int(input(\"enter the age\"))\n",
    "if age>=18:\n",
    "    print(\"he/she is eligible for vote\")\n",
    "else:\n",
    "    print(\"he/she is not eligible for vote\")    "
   ]
  },
  {
   "cell_type": "code",
   "execution_count": 4,
   "metadata": {},
   "outputs": [
    {
     "name": "stdout",
     "output_type": "stream",
     "text": [
      "divisible by 3 and 5\n"
     ]
    }
   ],
   "source": [
    "n1=int(input(\"enter number\"))\n",
    "if n1%3==0 and n1%5==0:\n",
    "    print(\"divisible by 3 and 5\")\n",
    "else:\n",
    "    print(\"not divisible by 3 and 5\")    "
   ]
  },
  {
   "cell_type": "code",
   "execution_count": 5,
   "metadata": {},
   "outputs": [
    {
     "name": "stdout",
     "output_type": "stream",
     "text": [
      "positive\n"
     ]
    }
   ],
   "source": [
    "n=int(input(\"enter the number\"))\n",
    "if n>0:\n",
    "    print(\"positive\")\n",
    "elif n<0:\n",
    "    print(\"negative\")\n",
    "else:\n",
    "    print(\"zero\")        "
   ]
  },
  {
   "cell_type": "code",
   "execution_count": 11,
   "metadata": {},
   "outputs": [
    {
     "name": "stdout",
     "output_type": "stream",
     "text": [
      "grade A\n"
     ]
    }
   ],
   "source": [
    "marks=int(input(\"enter the marks\"))\n",
    "if marks<=100 and marks>=90:\n",
    "    print(\"grade A\")\n",
    "elif 70<marks<90:\n",
    "    print(\"grade B\")\n",
    "elif 50<marks<70:\n",
    "    print(\"grade C\")\n",
    "elif marks<30:\n",
    "    print(\"fail\")\n",
    "else:\n",
    "    print(\"invalid marks\")                "
   ]
  },
  {
   "cell_type": "code",
   "execution_count": null,
   "metadata": {},
   "outputs": [],
   "source": []
  }
 ],
 "metadata": {
  "kernelspec": {
   "display_name": "base",
   "language": "python",
   "name": "python3"
  },
  "language_info": {
   "codemirror_mode": {
    "name": "ipython",
    "version": 3
   },
   "file_extension": ".py",
   "mimetype": "text/x-python",
   "name": "python",
   "nbconvert_exporter": "python",
   "pygments_lexer": "ipython3",
   "version": "3.12.3"
  }
 },
 "nbformat": 4,
 "nbformat_minor": 2
}
