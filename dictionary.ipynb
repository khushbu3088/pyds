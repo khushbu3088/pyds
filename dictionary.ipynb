{
 "cells": [
  {
   "cell_type": "markdown",
   "metadata": {},
   "source": [
    "## how to declare dictionary in different way\n",
    "## how to access key and values of dictionary\n",
    "## how to use loops in dictionary\n",
    "## nested dictionary"
   ]
  },
  {
   "cell_type": "code",
   "execution_count": 6,
   "metadata": {},
   "outputs": [
    {
     "name": "stdout",
     "output_type": "stream",
     "text": [
      "{'name': 'khushi', 'class': 'btech', 'roll_no': 24, 'age': 22}\n"
     ]
    }
   ],
   "source": [
    "student={'name':'khushi',\n",
    "'class': 'btech',\n",
    "'roll_no': 24,\n",
    "'age': 22\n",
    "}\n",
    "print(student)"
   ]
  },
  {
   "cell_type": "code",
   "execution_count": 7,
   "metadata": {},
   "outputs": [
    {
     "name": "stdout",
     "output_type": "stream",
     "text": [
      "{'lko': [25, 30, 35], 'delhi': [30, 35, 40], 'chennai': [24, 23, 22]}\n"
     ]
    }
   ],
   "source": [
    "temp={\n",
    "    'lko': [25,30,35],\n",
    "    'delhi': [30,35,40],\n",
    "    'chennai': [24,23,22]\n",
    "}\n",
    "print(temp)"
   ]
  },
  {
   "cell_type": "code",
   "execution_count": 8,
   "metadata": {},
   "outputs": [
    {
     "name": "stdout",
     "output_type": "stream",
     "text": [
      "{'name': 'khusi', 'age': 22, 'roll_no': 24, 'class_': 'btech'}\n"
     ]
    }
   ],
   "source": [
    "info=dict(name = 'khusi',age=22, roll_no=24, class_='btech')\n",
    "print(info)"
   ]
  },
  {
   "cell_type": "code",
   "execution_count": 9,
   "metadata": {},
   "outputs": [
    {
     "name": "stdout",
     "output_type": "stream",
     "text": [
      "{'name': 'khusi', 'age': 22, 'roll_no': 23, 'class_': '12'}\n"
     ]
    }
   ],
   "source": [
    "info2=dict(name=input(\"enter your name\"),\n",
    "           age=int(input(\"enter your age\")),\n",
    "           roll_no=int(input(\"enter your roll_no\")),\n",
    "           class_=input(\"enter your class\"))\n",
    "print(info2)"
   ]
  },
  {
   "cell_type": "markdown",
   "metadata": {},
   "source": [
    "_ 1st method to access the value of a key"
   ]
  },
  {
   "cell_type": "code",
   "execution_count": 11,
   "metadata": {},
   "outputs": [
    {
     "name": "stdout",
     "output_type": "stream",
     "text": [
      "khushi\n",
      "[25, 30, 35]\n"
     ]
    }
   ],
   "source": [
    "print(student['name'])\n",
    "print(temp['lko'])"
   ]
  },
  {
   "cell_type": "code",
   "execution_count": 13,
   "metadata": {},
   "outputs": [
    {
     "name": "stdout",
     "output_type": "stream",
     "text": [
      "22\n",
      "23\n"
     ]
    }
   ],
   "source": [
    "#2nd method to access the value of a key\n",
    "print(student.get(\"age\"))\n",
    "print(info2.get('roll_no'))"
   ]
  },
  {
   "cell_type": "code",
   "execution_count": 14,
   "metadata": {},
   "outputs": [
    {
     "name": "stdout",
     "output_type": "stream",
     "text": [
      "{'name': 'khushi', 'class': 'btech', 'roll_no': 24, 'age': 22, 'city': 'lko', 'school': 'dps'}\n"
     ]
    }
   ],
   "source": [
    "#to add item in a dictionary\n",
    "student['city']='lko'\n",
    "student['school']='dps'\n",
    "print(student)"
   ]
  },
  {
   "cell_type": "code",
   "execution_count": 15,
   "metadata": {},
   "outputs": [
    {
     "name": "stdout",
     "output_type": "stream",
     "text": [
      "{'name': 'khushi', 'class': 'btech', 'roll_no': 24, 'age': 22, 'city': 'lko'}\n"
     ]
    }
   ],
   "source": [
    "#to remove item from a dictionary\n",
    "student.pop('school')\n",
    "print(student)"
   ]
  },
  {
   "cell_type": "code",
   "execution_count": 16,
   "metadata": {},
   "outputs": [
    {
     "name": "stdout",
     "output_type": "stream",
     "text": [
      "{'name': 'khushi', 'class': 'btech', 'age': 22, 'city': 'lko'}\n"
     ]
    }
   ],
   "source": [
    "#using del method\n",
    "del student['roll_no']\n",
    "print(student)"
   ]
  },
  {
   "cell_type": "code",
   "execution_count": 17,
   "metadata": {},
   "outputs": [
    {
     "name": "stdout",
     "output_type": "stream",
     "text": [
      "name\n",
      "class\n",
      "age\n",
      "city\n"
     ]
    }
   ],
   "source": [
    "for k in student:\n",
    "    print(k)"
   ]
  },
  {
   "cell_type": "code",
   "execution_count": 18,
   "metadata": {},
   "outputs": [
    {
     "name": "stdout",
     "output_type": "stream",
     "text": [
      "name : khusi\n",
      "age : 22\n",
      "roll_no : 23\n",
      "class_ : 12\n"
     ]
    }
   ],
   "source": [
    "for k,v in info2.items():\n",
    "    print(f\"{k} : {v}\")"
   ]
  },
  {
   "cell_type": "code",
   "execution_count": 19,
   "metadata": {},
   "outputs": [
    {
     "name": "stdout",
     "output_type": "stream",
     "text": [
      "dict_values(['khushi', 'btech', 22, 'lko'])\n",
      "dict_keys(['name', 'class', 'age', 'city'])\n",
      "dict_items([('name', 'khushi'), ('class', 'btech'), ('age', 22), ('city', 'lko')])\n"
     ]
    }
   ],
   "source": [
    "print(student.values())\n",
    "print(student.keys())\n",
    "print(student.items())"
   ]
  },
  {
   "cell_type": "code",
   "execution_count": 20,
   "metadata": {},
   "outputs": [
    {
     "name": "stdout",
     "output_type": "stream",
     "text": [
      "{'emp1': {'name': 'jhon', 'age': 12, 'dept': 'HR', 'salary': '25000'}, 'emp2': {'name': 'emma', 'age': 25, 'dept': 'Finance', 'salary': '30000'}, 'emp3': {'name': 'linda', 'age': 23, 'dept': 'it', 'salary': '35000'}, 'emp4': {'name': 'khusi', 'age': 22, 'dept': 'admin', 'salary': '40000'}}\n"
     ]
    }
   ],
   "source": [
    "company={\n",
    "    'emp1' : {'name':'jhon','age':12,'dept':'HR','salary':'25000'},\n",
    "    'emp2' : {'name':'emma','age':25,'dept':'Finance','salary':'30000'},\n",
    "    'emp3' : {'name':'linda','age':23,'dept':'it','salary':'35000'},\n",
    "    'emp4' : {'name':'khusi','age':22,'dept':'admin','salary':'40000'}\n",
    "}\n",
    "print(company)"
   ]
  },
  {
   "cell_type": "code",
   "execution_count": 25,
   "metadata": {},
   "outputs": [],
   "source": [
    "from pprint import pp"
   ]
  },
  {
   "cell_type": "code",
   "execution_count": 26,
   "metadata": {},
   "outputs": [
    {
     "name": "stdout",
     "output_type": "stream",
     "text": [
      "{'emp1': {'name': 'jhon', 'age': 12, 'dept': 'HR', 'salary': '25000'},\n",
      " 'emp2': {'name': 'emma', 'age': 25, 'dept': 'Finance', 'salary': '30000'},\n",
      " 'emp3': {'name': 'linda', 'age': 23, 'dept': 'it', 'salary': '35000'},\n",
      " 'emp4': {'name': 'khusi', 'age': 22, 'dept': 'admin', 'salary': '40000'}}\n"
     ]
    }
   ],
   "source": [
    "pp(company)"
   ]
  },
  {
   "cell_type": "code",
   "execution_count": 27,
   "metadata": {},
   "outputs": [
    {
     "name": "stdout",
     "output_type": "stream",
     "text": [
      "{'name': 'emma', 'age': 25, 'dept': 'Finance', 'salary': '30000'}\n"
     ]
    }
   ],
   "source": [
    "print(company['emp2'])"
   ]
  },
  {
   "cell_type": "code",
   "execution_count": 29,
   "metadata": {},
   "outputs": [
    {
     "name": "stdout",
     "output_type": "stream",
     "text": [
      "22\n"
     ]
    }
   ],
   "source": [
    "print(company['emp4']['age'])"
   ]
  },
  {
   "cell_type": "code",
   "execution_count": 34,
   "metadata": {},
   "outputs": [
    {
     "name": "stdout",
     "output_type": "stream",
     "text": [
      "{'emp1': {'name': 'jhon', 'age': 12, 'dept': 'HR', 'salary': '25000'}, 'emp2': {'name': 'emma', 'age': 25, 'dept': 'Finance', 'salary': '30000'}, 'emp3': {'name': 'linda', 'age': 23, 'dept': 'it', 'salary': '35000'}, 'emp4': {'name': 'khusi', 'age': 22, 'dept': 'admin', 'salary': '40000'}, 'emp5': {'name': 'khush', 'age': 24, 'dept': 'manager', 'salary': 23000}}\n"
     ]
    }
   ],
   "source": [
    "company['emp5']={'name':'khush','age':24,'dept':'manager','salary':23000}\n",
    "print(company)"
   ]
  },
  {
   "cell_type": "code",
   "execution_count": 35,
   "metadata": {},
   "outputs": [
    {
     "name": "stdout",
     "output_type": "stream",
     "text": [
      "25\n"
     ]
    }
   ],
   "source": [
    "#indexing in dictionary\n",
    "print(temp['lko'][0])"
   ]
  },
  {
   "cell_type": "code",
   "execution_count": 37,
   "metadata": {},
   "outputs": [
    {
     "name": "stdout",
     "output_type": "stream",
     "text": [
      "average temp of delhi is : 35.0\n"
     ]
    }
   ],
   "source": [
    "#calculate the avg temp of delhi\n",
    "\n",
    "print(\"average temp of delhi is :\",sum(temp[\"delhi\"])/len(temp[\"delhi\"]))"
   ]
  },
  {
   "cell_type": "code",
   "execution_count": 2,
   "metadata": {},
   "outputs": [
    {
     "name": "stdout",
     "output_type": "stream",
     "text": [
      "prime number\n",
      "prime number\n",
      "prime number\n",
      "prime number\n",
      "prime number\n",
      "prime number\n",
      "prime number\n",
      "prime number\n",
      "prime number\n",
      "prime number\n",
      "prime number\n"
     ]
    }
   ],
   "source": [
    "num=1\n",
    "while num<=11:\n",
    "    if num%num==0:\n",
    "        print(\"prime number\")\n",
    "        num+=1\n",
    "    else:\n",
    "        print(\"not prime number\")"
   ]
  },
  {
   "cell_type": "code",
   "execution_count": null,
   "metadata": {},
   "outputs": [],
   "source": []
  }
 ],
 "metadata": {
  "kernelspec": {
   "display_name": "Python 3 (ipykernel)",
   "language": "python",
   "name": "python3"
  },
  "language_info": {
   "codemirror_mode": {
    "name": "ipython",
    "version": 3
   },
   "file_extension": ".py",
   "mimetype": "text/x-python",
   "name": "python",
   "nbconvert_exporter": "python",
   "pygments_lexer": "ipython3",
   "version": "3.12.4"
  }
 },
 "nbformat": 4,
 "nbformat_minor": 4
}
