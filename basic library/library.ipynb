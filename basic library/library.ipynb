{
 "cells": [
  {
   "cell_type": "markdown",
   "metadata": {},
   "source": [
    "- math library\n"
   ]
  },
  {
   "cell_type": "code",
   "execution_count": 2,
   "metadata": {},
   "outputs": [],
   "source": [
    "import math"
   ]
  },
  {
   "cell_type": "code",
   "execution_count": 3,
   "metadata": {},
   "outputs": [
    {
     "name": "stdout",
     "output_type": "stream",
     "text": [
      "3.0\n",
      "8.0\n",
      "120\n",
      "3.141592653589793\n",
      "2.718281828459045\n",
      "4\n",
      "24\n",
      "0.8414709848078965\n",
      "0.5403023058681398\n",
      "1.5574077246549023\n"
     ]
    }
   ],
   "source": [
    "print(math.sqrt(9))\n",
    "print(math.pow(2,3))\n",
    "print(math.factorial(5))\n",
    "print(math.pi)\n",
    "print(math.e)\n",
    "print(math.gcd(12,8))\n",
    "print(math.lcm(12,8))\n",
    "print(math.sin(1))\n",
    "print(math.cos(1))\n",
    "print(math.tan(1))"
   ]
  },
  {
   "cell_type": "markdown",
   "metadata": {},
   "source": [
    "- random library"
   ]
  },
  {
   "cell_type": "code",
   "execution_count": 4,
   "metadata": {},
   "outputs": [],
   "source": [
    "from random import random,randint,choice,shuffle#random library"
   ]
  },
  {
   "cell_type": "code",
   "execution_count": 5,
   "metadata": {},
   "outputs": [
    {
     "name": "stdout",
     "output_type": "stream",
     "text": [
      "get a random number between 0 and 1: 0.8612157207209513\n",
      "get a random number between 1 and 100: 41\n",
      "get a random element from a list: 3\n",
      "shuffle a list: ['bob', 'david', 'alice', 'eve', 'charlie']\n"
     ]
    }
   ],
   "source": [
    "print('get a random number between 0 and 1:',random())\n",
    "print('get a random number between 1 and 100:',randint(1,100))\n",
    "print('get a random element from a list:',choice([1,2,3,4,5]))\n",
    "names=['alice','bob','charlie','david','eve']\n",
    "shuffle(names)\n",
    "print('shuffle a list:',names)"
   ]
  },
  {
   "cell_type": "markdown",
   "metadata": {},
   "source": [
    "- datetime library"
   ]
  },
  {
   "cell_type": "code",
   "execution_count": 6,
   "metadata": {},
   "outputs": [],
   "source": [
    "from datetime import datetime as dt"
   ]
  },
  {
   "cell_type": "code",
   "execution_count": 7,
   "metadata": {},
   "outputs": [
    {
     "name": "stdout",
     "output_type": "stream",
     "text": [
      "current date and time: 2024-09-25 11:31:31.564270\n"
     ]
    }
   ],
   "source": [
    "print('current date and time:',dt.now())"
   ]
  },
  {
   "cell_type": "code",
   "execution_count": 8,
   "metadata": {},
   "outputs": [
    {
     "name": "stdout",
     "output_type": "stream",
     "text": [
      "current Date: 2024-09-25\n",
      "current time: 11:31:31.642107\n"
     ]
    }
   ],
   "source": [
    "print('current Date:',dt.now().date())\n",
    "print('current time:',dt.now().time())"
   ]
  },
  {
   "cell_type": "code",
   "execution_count": 9,
   "metadata": {},
   "outputs": [
    {
     "name": "stdout",
     "output_type": "stream",
     "text": [
      "current Year: 2024\n",
      "current Month: 9\n",
      "current Day: 25\n",
      "current Hour: 11\n",
      "current Minute: 31\n",
      "current Second: 31\n",
      "current Microsecond: 744211\n",
      "current Weekday: 2\n"
     ]
    }
   ],
   "source": [
    "print('current Year:',dt.now().year)\n",
    "print('current Month:',dt.now().month)\n",
    "print('current Day:',dt.now().day)\n",
    "print('current Hour:',dt.now().hour)\n",
    "print('current Minute:',dt.now().minute)\n",
    "print('current Second:',dt.now().second)\n",
    "print('current Microsecond:',dt.now().microsecond)\n",
    "print('current Weekday:',dt.now().weekday())\n",
    "\n"
   ]
  },
  {
   "cell_type": "code",
   "execution_count": 10,
   "metadata": {},
   "outputs": [
    {
     "name": "stdout",
     "output_type": "stream",
     "text": [
      "date 25/09/24\n"
     ]
    }
   ],
   "source": [
    "date=dt.strftime(dt.now(),'%d/%m/%y')\n",
    "print('date',date)"
   ]
  },
  {
   "cell_type": "code",
   "execution_count": 11,
   "metadata": {},
   "outputs": [
    {
     "name": "stdout",
     "output_type": "stream",
     "text": [
      "time 11/31/31\n"
     ]
    }
   ],
   "source": [
    "time=dt.strftime(dt.now(),'%H/%M/%S')\n",
    "print('time',time)"
   ]
  },
  {
   "cell_type": "markdown",
   "metadata": {},
   "source": [
    "\n",
    "-os library"
   ]
  },
  {
   "cell_type": "code",
   "execution_count": 12,
   "metadata": {},
   "outputs": [],
   "source": [
    "import os"
   ]
  },
  {
   "cell_type": "code",
   "execution_count": 13,
   "metadata": {},
   "outputs": [
    {
     "name": "stdout",
     "output_type": "stream",
     "text": [
      "current working directory: c:\\Users\\Durgesh Verma\\Desktop\\pyds\\basic library\n"
     ]
    }
   ],
   "source": [
    "print('current working directory:',os.getcwd())"
   ]
  },
  {
   "cell_type": "code",
   "execution_count": 14,
   "metadata": {},
   "outputs": [
    {
     "name": "stdout",
     "output_type": "stream",
     "text": [
      "files in the current dictionary: ['library.ipynb']\n",
      "1 file found\n"
     ]
    }
   ],
   "source": [
    "files=os.listdir()\n",
    "print('files in the current dictionary:',files)\n",
    "print(len(files),'file found')"
   ]
  },
  {
   "cell_type": "code",
   "execution_count": 15,
   "metadata": {},
   "outputs": [
    {
     "name": "stdout",
     "output_type": "stream",
     "text": [
      "files in the specified directory: ['.git', '.ipynb_checkpoints', 'basic library', 'conditions.ipynb', 'dictionary.ipynb', 'exerciseloop.ipynb', 'function', 'intro.ipynb', 'loop', 'operator.ipynb', 'set.ipynb', 'string.ipynb']\n"
     ]
    }
   ],
   "source": [
    "files=os.listdir(r\"C:\\Users\\Durgesh Verma\\Desktop\\pyds\")# r is used raw data.\n",
    "print('files in the specified directory:',files)"
   ]
  },
  {
   "cell_type": "code",
   "execution_count": 16,
   "metadata": {},
   "outputs": [
    {
     "data": {
      "text/plain": [
       "<generator object walk at 0x00000247AA39E2C0>"
      ]
     },
     "execution_count": 16,
     "metadata": {},
     "output_type": "execute_result"
    }
   ],
   "source": [
    "os.walk('C:')"
   ]
  },
  {
   "cell_type": "code",
   "execution_count": 17,
   "metadata": {},
   "outputs": [
    {
     "name": "stdout",
     "output_type": "stream",
     "text": [
      "=> C:\n",
      "📁 []\n",
      "🗃️ ['library.ipynb']\n",
      "total files found: 1\n"
     ]
    }
   ],
   "source": [
    "total_files=0\n",
    "for path,folders,files in os.walk('C:'):\n",
    "    print('=>',path)\n",
    "    print('📁',folders)\n",
    "    print('🗃️',files)\n",
    "    total_files+=len(files)\n",
    "print('total files found:',total_files)    "
   ]
  },
  {
   "cell_type": "code",
   "execution_count": 18,
   "metadata": {},
   "outputs": [
    {
     "name": "stdout",
     "output_type": "stream",
     "text": [
      "folder exists\n"
     ]
    }
   ],
   "source": [
    "file=r\"C:\\Users\\Durgesh Verma\\Desktop\\temp\"\n",
    "if os.path.exists(file):\n",
    "    print('folder exists')\n",
    "else:\n",
    "    print('folder does not exist')    "
   ]
  },
  {
   "cell_type": "code",
   "execution_count": 19,
   "metadata": {},
   "outputs": [
    {
     "name": "stdout",
     "output_type": "stream",
     "text": [
      "folder exists\n",
      "folder size: 4096 bytes\n",
      "folder size in kb: 4.0 KB\n",
      "folder size in MB: 0.00390625 MB\n",
      "folder size in GB: 3.814697265625e-06 GB\n"
     ]
    }
   ],
   "source": [
    "files=r\"C:\\Users\\Durgesh Verma\\Desktop\\pyds\"\n",
    "if os.path.exists(files):\n",
    "    print('folder exists')\n",
    "    size=os.path.getsize(files)\n",
    "    print('folder size:',size,'bytes')\n",
    "    print('folder size in kb:',size/1024,'KB')\n",
    "    print('folder size in MB:',size/1024/1024,'MB')\n",
    "    print('folder size in GB:',size/1024/1024/1024,'GB')"
   ]
  }
 ],
 "metadata": {
  "kernelspec": {
   "display_name": "base",
   "language": "python",
   "name": "python3"
  },
  "language_info": {
   "codemirror_mode": {
    "name": "ipython",
    "version": 3
   },
   "file_extension": ".py",
   "mimetype": "text/x-python",
   "name": "python",
   "nbconvert_exporter": "python",
   "pygments_lexer": "ipython3",
   "version": "3.12.3"
  }
 },
 "nbformat": 4,
 "nbformat_minor": 2
}
